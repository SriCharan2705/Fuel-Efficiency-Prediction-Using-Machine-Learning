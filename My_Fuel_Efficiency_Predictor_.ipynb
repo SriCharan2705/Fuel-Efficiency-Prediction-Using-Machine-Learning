{
  "nbformat": 4,
  "nbformat_minor": 0,
  "metadata": {
    "colab": {
      "provenance": [],
      "authorship_tag": "ABX9TyMcSkPp/om3rQ0dRE8Rhjin",
      "include_colab_link": true
    },
    "kernelspec": {
      "name": "python3",
      "display_name": "Python 3"
    },
    "language_info": {
      "name": "python"
    }
  },
  "cells": [
    {
      "cell_type": "markdown",
      "metadata": {
        "id": "view-in-github",
        "colab_type": "text"
      },
      "source": [
        "<a href=\"https://colab.research.google.com/github/SriCharan2705/Fuel-Efficiency-Prediction-Using-Machine-Learning/blob/main/My_Fuel_Efficiency_Predictor_.ipynb\" target=\"_parent\"><img src=\"https://colab.research.google.com/assets/colab-badge.svg\" alt=\"Open In Colab\"/></a>"
      ]
    },
    {
      "cell_type": "code",
      "execution_count": 8,
      "metadata": {
        "colab": {
          "base_uri": "https://localhost:8080/"
        },
        "id": "vvE2sMmCq2Xx",
        "outputId": "63243799-81b2-452c-834d-ba3cf649a24b"
      },
      "outputs": [
        {
          "output_type": "stream",
          "name": "stdout",
          "text": [
            "3/3 [==============================] - 0s 6ms/step - loss: 31.8686 - mae: 4.4735 - mse: 31.8686\n",
            "1/1 [==============================] - 0s 99ms/step\n",
            "Test MAE: 4.4735493659973145\n",
            "Test MSE: 31.868606567382812\n",
            "Predicted Fuel Efficiency: 31.158506\n",
            "Min MPG: 9.0\n",
            "Max MPG: 46.6\n"
          ]
        }
      ],
      "source": [
        "import tensorflow as tf\n",
        "from tensorflow import keras\n",
        "from tensorflow.keras import layers\n",
        "import pandas as pd\n",
        "import numpy as np\n",
        "\n",
        "# Load the dataset\n",
        "url = \"https://archive.ics.uci.edu/ml/machine-learning-databases/auto-mpg/auto-mpg.data\"\n",
        "column_names = ['MPG', 'Cylinders', 'Displacement', 'Horsepower', 'Weight',\n",
        "                'Acceleration', 'Model Year', 'Origin']\n",
        "raw_dataset = pd.read_csv(url, names=column_names, na_values='?',\n",
        "                          comment='\\t', sep=' ', skipinitialspace=True)\n",
        "\n",
        "# Drop rows with missing values\n",
        "dataset = raw_dataset.dropna()\n",
        "\n",
        "# Split features and labels\n",
        "cfeatures = dataset.drop('MPG', axis=1)\n",
        "labels = dataset['MPG']\n",
        "\n",
        "# Normalize features using mean and standard deviation\n",
        "normalized_features = (cfeatures - cfeatures.mean()) / cfeatures.std()\n",
        "\n",
        "# Split the data into training and testing sets\n",
        "train_features = normalized_features[:300]\n",
        "test_features = normalized_features[300:]\n",
        "train_labels = labels[:300]\n",
        "test_labels = labels[300:]\n",
        "\n",
        "# Define the model\n",
        "model1 = keras.Sequential([\n",
        "    layers.Dense(128, activation='relu', input_shape=[len(train_features.keys())]),\n",
        "    layers.BatchNormalization(),\n",
        "    layers.Dropout(0.2),\n",
        "    layers.Dense(128, activation='relu'),\n",
        "    layers.BatchNormalization(),\n",
        "    layers.Dropout(0.2),\n",
        "    layers.Dense(1)\n",
        "])\n",
        "\n",
        "# Compile the model\n",
        "optimizer = tf.keras.optimizers.RMSprop(0.001)\n",
        "model1.compile(loss='mse', optimizer=optimizer, metrics=['mae', 'mse'])\n",
        "\n",
        "# Implement early stopping and learning rate scheduler\n",
        "early_stopping = keras.callbacks.EarlyStopping(monitor='val_loss', patience=50, restore_best_weights=True)\n",
        "lr_scheduler = keras.callbacks.ReduceLROnPlateau(monitor='val_loss', factor=0.5, patience=20)\n",
        "\n",
        "# Train the model\n",
        "Mhistory = model1.fit(\n",
        "    train_features, train_labels,\n",
        "    epochs=1000, validation_split=0.2, verbose=0,\n",
        "    callbacks=[early_stopping, lr_scheduler]\n",
        ")\n",
        "\n",
        "# Evaluate the model\n",
        "test_loss, test_mae, test_mse = model1.evaluate(test_features, test_labels)\n",
        "\n",
        "# Predict fuel efficiency for a new car\n",
        "new_car_features = pd.DataFrame([[4, 120.0, 100.0, 2500, 15.0, 82, 1]], columns=column_names[1:])\n",
        "normalized_new_car_features = (new_car_features - cfeatures.mean()) / cfeatures.std()\n",
        "predicted_fuel_efficiency = model1.predict(normalized_new_car_features)\n",
        "\n",
        "# Clipping the prediction to the range of actual MPG values in the dataset\n",
        "predicted_fuel_efficiency = np.clip(predicted_fuel_efficiency, labels.min(), labels.max())\n",
        "\n",
        "# Output results\n",
        "print(\"Test MAE:\", test_mae)\n",
        "print(\"Test MSE:\", test_mse)\n",
        "print(\"Predicted Fuel Efficiency:\", predicted_fuel_efficiency[0][0])\n",
        "print(\"Min MPG:\", labels.min())\n",
        "print(\"Max MPG:\", labels.max())\n"
      ]
    }
  ]
}